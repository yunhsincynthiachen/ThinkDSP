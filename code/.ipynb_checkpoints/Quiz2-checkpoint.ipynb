{
 "metadata": {
  "name": "",
  "signature": "sha256:520b3f7a809d311af589d7f8a2b5f3e1c08c9bf0badb9d2f292a3bec737ccda5"
 },
 "nbformat": 3,
 "nbformat_minor": 0,
 "worksheets": []
}